{
 "cells": [
  {
   "cell_type": "code",
   "execution_count": 1,
   "metadata": {},
   "outputs": [],
   "source": [
    "# Importing packages\n",
    "import pandas as pd\n",
    "import requests\n",
    "from bs4 import BeautifulSoup\n",
    "\n",
    "#define url to pull from\n",
    "mpd_url = 'https://itmdapps.milwaukee.gov/MPDCallData/'"
   ]
  },
  {
   "cell_type": "code",
   "execution_count": 2,
   "metadata": {},
   "outputs": [],
   "source": [
    "#query website \n",
    "page = requests.get(mpd_url)\n",
    "\n",
    "#Create parser\n",
    "soup = BeautifulSoup(page.text, 'html.parser')\n"
   ]
  },
  {
   "cell_type": "code",
   "execution_count": 23,
   "metadata": {},
   "outputs": [
    {
     "name": "stdout",
     "output_type": "stream",
     "text": [
      "['182480717'] ['09/05/2018 09:24:32 AM'] ['749 W STATE ST'] ['4'] ['MED RUN'] ['Service in Progress']\n",
      "['182480756'] ['09/05/2018 09:24:25 AM'] ['4440 W FOREST HOME AV,MKE'] ['6'] ['TRAFFIC STOP'] ['City Citation(s) Issued']\n",
      "['182480746'] ['09/05/2018 09:24:22 AM'] ['2525 N SHERMAN BL,MKE'] ['3'] ['FIGHT'] ['Service in Progress']\n",
      "['182480754'] ['09/05/2018 09:23:47 AM'] ['2999 N HUMBOLDT BL,MKE'] ['5'] ['BUSINESS CHECK'] ['Assignment Completed']\n",
      "['182480751'] ['09/05/2018 09:23:45 AM'] ['N 24TH ST / W ATKINSON AV,MKE'] ['5'] ['SUSP PERS/AUTO'] ['Service in Progress']\n",
      "['182480648'] ['09/05/2018 09:23:43 AM'] ['3624 N 50TH ST,MKE'] ['7'] ['TRBL W/SUBJ'] ['Service in Progress']\n",
      "['182480750'] ['09/05/2018 09:23:20 AM'] ['S 26TH ST / W LINCOLN AV,MKE'] ['2'] ['ACC PI'] ['Service in Progress']\n",
      "['182480753'] ['09/05/2018 09:23:15 AM'] ['W GRANTOSA DR / W TALLMADGE PL,MKE'] ['4'] ['TRAFFIC STOP'] ['Advised']\n",
      "['182480740'] ['09/05/2018 09:21:59 AM'] ['4500 W WISCONSIN AV,MKE'] ['3'] ['ANIMAL BITE'] ['Service in Progress']\n",
      "['182480749'] ['09/05/2018 09:20:18 AM'] ['530 S 5TH ST,MKE'] ['2'] ['BUSINESS CHECK'] ['Assignment Completed']\n",
      "['182480748'] ['09/05/2018 09:19:59 AM'] ['4733 W VLIET ST,MKE'] ['3'] ['VEHICLE MAINT'] ['Service in Progress']\n",
      "['182480743'] ['09/05/2018 09:19:21 AM'] ['221 E OREGON ST,MKE'] ['1'] ['CRUELTY ANIMAL'] ['Service in Progress']\n",
      "['182480745'] ['09/05/2018 09:18:49 AM'] ['4733 W VLIET ST,MKE'] ['3'] ['POLICE ADMIN'] ['Service in Progress']\n",
      "['182480703'] ['09/05/2018 09:17:19 AM'] ['2311 W CAPITOL DR,MKE'] ['5'] ['RECOVERED VEH'] ['Service in Progress']\n",
      "['182480737'] ['09/05/2018 09:15:49 AM'] ['2420 S LINCOLN MEMORIAL DR,MKE'] ['6'] ['ABAND/STOLEN PRO'] ['Service in Progress']\n",
      "['182480738'] ['09/05/2018 09:15:08 AM'] ['5656 N 76TH ST'] ['OCOE'] ['SUBJ STOP'] ['Assignment Completed']\n",
      "['182480722'] ['09/05/2018 09:14:33 AM'] ['1615 E LOCUST ST,MKE'] ['1'] ['THEFT'] ['To be Filed']\n",
      "['182480733'] ['09/05/2018 09:11:59 AM'] ['749 W STATE ST,MKE'] ['1'] ['FOLLOW UP'] ['Service in Progress']\n",
      "['182480610'] ['09/05/2018 09:11:35 AM'] ['N 35TH ST / W JUNEAU AV,MKE'] ['3'] ['ASSIGNMENT'] ['Assignment Completed']\n",
      "['182480625'] ['09/05/2018 09:11:10 AM'] ['5451 N LONG ISLAND DR,MKE'] ['4'] ['TRBL W/SUBJ'] ['Advised']\n",
      "['182480724'] ['09/05/2018 09:08:04 AM'] ['619 W WALNUT ST,MKE'] ['5'] ['REPORTS'] ['Service in Progress']\n",
      "['182480723'] ['09/05/2018 09:07:07 AM'] ['1124 N 11TH ST,MKE'] ['1'] ['CONVEY PROPERTY'] ['Service in Progress']\n",
      "['182480721'] ['09/05/2018 09:06:23 AM'] ['245 W LINCOLN AV,MKE'] ['2'] ['RETURN STATION'] ['Assignment Completed']\n",
      "['182480720'] ['09/05/2018 09:06:00 AM'] ['7722 W VILLARD AV,MKE'] ['4'] ['ACC PI'] ['Service in Progress']\n",
      "['182480711'] ['09/05/2018 09:05:42 AM'] ['2403 N 44TH ST,MKE'] ['3'] ['TRBL W/SUBJ'] ['Advised']\n",
      "['182480710'] ['09/05/2018 09:05:41 AM'] ['716 S 36TH ST,MKE'] ['2'] ['SUSP PERS/AUTO'] ['Unable to Locate Complainant']\n",
      "['182480719'] ['09/05/2018 09:05:39 AM'] ['749 W STATE ST,MKE'] ['1'] ['MED RUN'] ['Service in Progress']\n",
      "['182480639'] ['09/05/2018 09:04:14 AM'] ['2525 N SHERMAN BL,MKE'] ['3'] ['RECK USE OF WEAP'] ['Advised/Referral']\n",
      "['182480716'] ['09/05/2018 09:03:57 AM'] ['3355 N 8TH ST,MKE'] ['5'] ['PROBATION/PAROLE'] ['Assignment Completed']\n",
      "['182480713'] ['09/05/2018 09:03:00 AM'] ['245 W LINCOLN AV,MKE'] ['2'] ['INVESTIGATION'] ['Service in Progress']\n",
      "['182480712'] ['09/05/2018 09:02:48 AM'] ['4715 W VLIET ST,MKE'] ['3'] ['POLICE ADMIN'] ['Assignment Completed']\n",
      "['182480707'] ['09/05/2018 09:00:37 AM'] ['5656 N 76TH ST,MKE'] ['4'] ['BUSINESS CHECK'] ['Assignment Completed']\n",
      "['182480662'] ['09/05/2018 08:57:55 AM'] ['6400 W BURLEIGH ST,MKE'] ['7'] ['THEFT'] ['Service in Progress']\n",
      "['182480573'] ['09/05/2018 08:57:43 AM'] ['N 58TH ST / W VILLARD AV,MKE'] ['7'] ['TRBL W/SUBJ'] ['Assignment Completed']\n",
      "['182480697'] ['09/05/2018 08:57:21 AM'] ['1409 S 15TH ST,MKE'] ['2'] ['CALL FOR POLICE'] ['Advised']\n",
      "['182480699'] ['09/05/2018 08:57:13 AM'] ['949 N 9TH ST,MKE'] ['1'] ['COURT DUTY'] ['Service in Progress']\n",
      "['182480694'] ['09/05/2018 08:57:00 AM'] ['231 E WISCONSIN AV,MKE'] ['1'] ['ENTRY'] ['Service in Progress']\n",
      "['182480698'] ['09/05/2018 08:56:29 AM'] ['N 68TH ST / W VILLARD AV,MKE'] ['7'] ['TRAFFIC STOP'] ['City Citation(s) Issued']\n",
      "['182480695'] ['09/05/2018 08:55:36 AM'] ['4733 W VLIET ST,MKE'] ['3'] ['POLICE ADMIN'] ['Assignment Completed']\n",
      "['182480693'] ['09/05/2018 08:54:23 AM'] ['2920 N 4TH ST,MKE'] ['5'] ['REPORTS'] ['Service in Progress']\n",
      "['182480692'] ['09/05/2018 08:54:01 AM'] ['3501 W FOREST HOME AV,MKE'] ['6'] ['TRAFFIC STOP'] ['City Citation(s) Issued']\n",
      "['182480691'] ['09/05/2018 08:53:55 AM'] ['9239 N 75TH ST,MKE'] ['4'] ['FOLLOW UP'] ['Assignment Completed']\n",
      "['182480684'] ['09/05/2018 08:51:04 AM'] ['938 W NORTH AV,MKE'] ['3'] ['HOLDUP ALARM'] ['Service in Progress']\n",
      "['182480685'] ['09/05/2018 08:49:28 AM'] ['400 N WATER ST,MKE'] ['1'] ['BUSINESS CHECK'] ['Assignment Completed']\n",
      "['182480682'] ['09/05/2018 08:48:38 AM'] ['7800 W BOBOLINK'] ['OCOE'] ['SUBJ STOP'] ['Assignment Completed']\n",
      "['182480681'] ['09/05/2018 08:48:25 AM'] ['3343 N 27TH ST,MKE'] ['5'] ['FOLLOW UP'] ['Assignment Completed']\n",
      "['182480652'] ['09/05/2018 08:48:14 AM'] ['5659 N 65TH ST,MKE'] ['4'] ['ENTRY'] ['Unable to Locate Complainant']\n",
      "['182480677'] ['09/05/2018 08:47:37 AM'] ['S 19TH ST / W NATIONAL AV,MKE'] ['2'] ['TRBL W/SUBJ'] ['Advised']\n",
      "['182480673'] ['09/05/2018 08:43:48 AM'] ['3645 W FOREST HOME AV,MKE'] ['6'] ['TRAFFIC STOP'] ['Advised']\n",
      "['182480672'] ['09/05/2018 08:41:59 AM'] ['2549 N LAKE DR,MKE'] ['1'] ['ENTRY AUTOS'] ['Service in Progress']\n",
      "['182480671'] ['09/05/2018 08:40:17 AM'] ['1404 MADISON AV, SOUTH MILWAUKEE'] ['6'] ['FOLLOW UP'] ['Assignment Completed']\n",
      "['182480670'] ['09/05/2018 08:40:12 AM'] ['9601 W MARCELLE AV,MKE'] ['4'] ['VACANT HOUSE CHK'] ['Assignment Completed']\n",
      "['182480647'] ['09/05/2018 08:39:28 AM'] ['735 S 22ND ST,MKE'] ['2'] ['INJ PERSON/SICK'] ['Assignment Completed']\n",
      "['182480669'] ['09/05/2018 08:39:01 AM'] ['1015 N 10TH ST,MKE'] ['1'] ['INVESTIGATION'] ['Service in Progress']\n",
      "['182480666'] ['09/05/2018 08:38:58 AM'] ['N 8TH ST / W KEEFE AV,MKE'] ['5'] ['ACC PI'] ['Service in Progress']\n",
      "['182480665'] ['09/05/2018 08:37:40 AM'] ['949 N 9TH ST,MKE'] ['1'] ['COURT DUTY'] ['Service in Progress']\n",
      "['182480636'] ['09/05/2018 08:36:25 AM'] ['6521 W KEEFE AVENUE PK,MKE'] ['7'] ['SUSP PERS/AUTO'] ['Advised']\n",
      "['182480659'] ['09/05/2018 08:35:38 AM'] ['S 6TH ST / W BURNHAM ST,MKE'] ['2'] ['ACC PDO'] ['Assignment Completed']\n",
      "['182480649'] ['09/05/2018 08:34:54 AM'] ['N 35TH ST / W FOND DU LAC AV,MKE'] ['7'] ['WELFARE CITIZEN'] ['Assignment Completed']\n",
      "['182480660'] ['09/05/2018 08:34:21 AM'] ['N 65TH ST / W VILLARD AV,MKE'] ['7'] ['TRAFFIC STOP'] ['City Citation(s) Issued']\n",
      "['182480657'] ['09/05/2018 08:32:44 AM'] ['2333 N 49TH ST,MKE'] ['3'] ['REPORTS'] ['Assignment Completed']\n",
      "['182480578'] ['09/05/2018 08:32:19 AM'] ['3288 N 54TH ST,MKE'] ['7'] ['WELFARE CITIZEN'] ['Service in Progress']\n",
      "['182480644'] ['09/05/2018 08:32:19 AM'] ['2361 N 12TH ST,MKE'] ['3'] ['WELFARE CITIZEN'] ['Service in Progress']\n",
      "['182480656'] ['09/05/2018 08:32:14 AM'] ['949 N 9TH ST,MKE'] ['1'] ['COURT DUTY'] ['Service in Progress']\n",
      "['182480650'] ['09/05/2018 08:30:46 AM'] ['4733 W VLIET ST,MKE'] ['3'] ['VEHICLE MAINT'] ['Service in Progress']\n",
      "['182480560'] ['09/05/2018 08:29:35 AM'] ['2424 S 4TH ST,MKE'] ['2'] ['TRBL W/SUBJ'] ['Advised']\n",
      "['182480646'] ['09/05/2018 08:29:27 AM'] ['7525 W GOOD HOPE RD,MKE'] ['4'] ['BUSINESS CHECK'] ['Assignment Completed']\n",
      "['182480645'] ['09/05/2018 08:28:17 AM'] ['2307-A N 5TH ST,MKE'] ['5'] ['BATTERY DV'] ['Advised/Referral']\n",
      "['182480614'] ['09/05/2018 08:27:39 AM'] ['N 91ST ST / W MILL RD,MKE'] ['4'] ['THEFT VEHICLE'] ['Unable to Locate Complainant']\n",
      "['182480642'] ['09/05/2018 08:26:49 AM'] ['1425 N FARWELL AV,MKE'] ['1'] ['BUSINESS CHECK'] ['Assignment Completed']\n",
      "['182480640'] ['09/05/2018 08:25:39 AM'] ['N 76TH ST / W FLORIST AV,MKE'] ['4'] ['BUS INVESTIGATIO'] ['Assignment Completed']\n"
     ]
    }
   ],
   "source": [
    "#create a empty set to store the data\n",
    "calls_list = []\n",
    "\n",
    "#find the table and pull in each column of data\n",
    "for row in soup.findAll('table')[0].tbody.findAll('tr'):\n",
    "    call_number = row.findAll('td')[0].contents\n",
    "    data_time = row.findAll('td')[1].contents\n",
    "    location = row.findAll('td')[2].contents\n",
    "    district = row.findAll('td')[3].contents\n",
    "    nature = row.findAll('td')[4].contents\n",
    "    status = row.findAll('td')[5].contents\n",
    "    \n",
    "    #print out row of call data\n",
    "    print (call_number, data_time, location, district, nature, status)\n",
    "    \n",
    "    #append the list of calls\n",
    "    calls_list.append((call_number, data_time, location, district, nature, status))\n",
    "   "
   ]
  },
  {
   "cell_type": "code",
   "execution_count": 28,
   "metadata": {},
   "outputs": [],
   "source": [
    "df = pd.DataFrame(calls_list)\n",
    "df.columns = [\"call_number\", \"date_time\", \"location\", \"district\", \"nature\", \"status\"]"
   ]
  },
  {
   "cell_type": "code",
   "execution_count": null,
   "metadata": {},
   "outputs": [],
   "source": []
  },
  {
   "cell_type": "code",
   "execution_count": null,
   "metadata": {},
   "outputs": [],
   "source": []
  }
 ],
 "metadata": {
  "kernelspec": {
   "display_name": "Python 3",
   "language": "python",
   "name": "python3"
  },
  "language_info": {
   "codemirror_mode": {
    "name": "ipython",
    "version": 3
   },
   "file_extension": ".py",
   "mimetype": "text/x-python",
   "name": "python",
   "nbconvert_exporter": "python",
   "pygments_lexer": "ipython3",
   "version": "3.6.5"
  }
 },
 "nbformat": 4,
 "nbformat_minor": 2
}
